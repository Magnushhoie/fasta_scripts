{
 "cells": [
  {
   "cell_type": "code",
   "execution_count": 29,
   "metadata": {},
   "outputs": [
    {
     "name": "stdout",
     "output_type": "stream",
     "text": [
      "The autoreload extension is already loaded. To reload it, use:\n",
      "  %reload_ext autoreload\n"
     ]
    }
   ],
   "source": [
    "%load_ext autoreload\n",
    "%autoreload 2\n",
    "\n",
    "import numpy as np\n",
    "import pandas as pd\n",
    "\n",
    "import matplotlib.pyplot as plt\n",
    "import seaborn as sns"
   ]
  },
  {
   "cell_type": "code",
   "execution_count": 32,
   "metadata": {},
   "outputs": [
    {
     "data": {
      "text/plain": [
       "21"
      ]
     },
     "execution_count": 32,
     "metadata": {},
     "output_type": "execute_result"
    }
   ],
   "source": [
    "len(inverseDict)"
   ]
  },
  {
   "cell_type": "code",
   "execution_count": 35,
   "metadata": {},
   "outputs": [
    {
     "data": {
      "text/plain": [
       "1058"
      ]
     },
     "execution_count": 35,
     "metadata": {},
     "output_type": "execute_result"
    }
   ],
   "source": [
    "len(fasta_dict)"
   ]
  },
  {
   "cell_type": "code",
   "execution_count": 39,
   "metadata": {},
   "outputs": [
    {
     "data": {
      "text/plain": [
       "52"
      ]
     },
     "execution_count": 39,
     "metadata": {},
     "output_type": "execute_result"
    }
   ],
   "source": [
    "len(inverseDict)"
   ]
  },
  {
   "cell_type": "code",
   "execution_count": 51,
   "metadata": {},
   "outputs": [],
   "source": []
  },
  {
   "cell_type": "code",
   "execution_count": 47,
   "metadata": {},
   "outputs": [
    {
     "data": {
      "text/plain": [
       "(1082, 56)"
      ]
     },
     "execution_count": 47,
     "metadata": {},
     "output_type": "execute_result"
    }
   ],
   "source": [
    "lengths = [len(k) for k in inverseDict.keys()]\n",
    "max(lengths), min(lengths)"
   ]
  },
  {
   "cell_type": "code",
   "execution_count": 69,
   "metadata": {},
   "outputs": [],
   "source": [
    "def get_fasta_stats(fasta_dict):\n",
    "    \"\"\" Calculates distribution of sequences in FASTA dict \"\"\"\n",
    "\n",
    "    sequences = [v.seq for v in fasta_dict.values()]\n",
    "    lengths = [len(s) for s in sequences]\n",
    "\n",
    "    print(f\"{len(fasta_dict)} IDs, {len(sequences)} sequences\")\n",
    "    print(f\"Max length {max(lengths)}, min length {min(lengths)}\")\n",
    "\n",
    "from Bio import SeqIO\n",
    "def parse_fasta_file(fasta_path, verbose=False):\n",
    "    \"\"\" Reads in FASTA file, prints statistics \"\"\"\n",
    "\n",
    "\n",
    "    fasta_path = \"data/sequences.fasta\"\n",
    "    fasta_dict = SeqIO.to_dict(SeqIO.parse(fasta_path, \"fasta\"))\n",
    "\n",
    "    print(f\"Read {len(fasta_dict)} FASTA entries from {fasta_path}\")\n",
    "    get_fasta_stats(fasta_dict)\n",
    "\n",
    "    return fasta_dict\n",
    "\n",
    "\n",
    "from collections import defaultdict\n",
    "def check_overlapping_sequences(fasta_dict, verbose=False):\n",
    "    \"\"\" Checks which IDs are overlapping in FASTA dict \"\"\"\n",
    "\n",
    "    inverseDict = defaultdict(list)\n",
    "\n",
    "    for k, v in fasta_dict.items():\n",
    "        seq = str(v.seq)\n",
    "        inverseDict[seq].append(k)\n",
    "\n",
    "    for k in list(inverseDict.keys()):\n",
    "        if len(inverseDict[k]) < 2:\n",
    "            del inverseDict[k]\n",
    "\n",
    "    print(f\"Found overlapping sequences for {len(inverseDict)} IDs\")\n",
    "\n",
    "    if verbose:\n",
    "        for k, v in inverseDict.items():\n",
    "            print(f\"{v} : {k}\")\n",
    "\n",
    "    return inverseDict\n"
   ]
  },
  {
   "cell_type": "code",
   "execution_count": 70,
   "metadata": {},
   "outputs": [
    {
     "name": "stdout",
     "output_type": "stream",
     "text": [
      "Read 1058 FASTA entries from data/sequences.fasta\n",
      "1058 IDs, 1058 sequences\n",
      "Max length 3097, min length 21\n"
     ]
    }
   ],
   "source": []
  },
  {
   "cell_type": "code",
   "execution_count": 78,
   "metadata": {},
   "outputs": [],
   "source": [
    "def filter_fasta_dict_on_seqlen(fasta_dict, min_len=0, max_len=800):\n",
    "    \"\"\" Filters FASTA dict based on sequence length \"\"\"\n",
    "\n",
    "    out_dict = {k:v for k, v in fasta_dict.items() if len(v.seq) >= min_len and len(v.seq) < max_len}\n",
    "    print(f\"Filtering to {len(out_dict)} / {len(fasta_dict)} sequences >= {min_len} and < {max_len}\")\n",
    "\n",
    "    return out_dict"
   ]
  },
  {
   "cell_type": "code",
   "execution_count": 84,
   "metadata": {},
   "outputs": [],
   "source": [
    "import os\n",
    "def save_fasta_dict(outfile, fasta_dict):\n",
    "    \"\"\" Saves FASTA dict to file \"\"\"\n",
    "\n",
    "    print(f\"Saving to {outfile}\")\n",
    "    with open(outfile, \"w\") as out_handle:\n",
    "        SeqIO.write(fasta_dict.values(), out_handle, \"fasta\")\n",
    "\n"
   ]
  },
  {
   "cell_type": "code",
   "execution_count": 87,
   "metadata": {},
   "outputs": [
    {
     "name": "stdout",
     "output_type": "stream",
     "text": [
      "Found overlapping sequences for 52 IDs\n"
     ]
    }
   ],
   "source": []
  },
  {
   "cell_type": "code",
   "execution_count": 89,
   "metadata": {},
   "outputs": [
    {
     "name": "stdout",
     "output_type": "stream",
     "text": [
      "Read 1058 FASTA entries from data/sequences.fasta\n",
      "1058 IDs, 1058 sequences\n",
      "Max length 3097, min length 21\n",
      "Found overlapping sequences for 52 IDs\n",
      "Filtering to 923 / 1058 sequences >= 0 and < 800\n",
      "Saving to small_0-800.fasta\n",
      "Filtering to 90 / 1058 sequences >= 800 and < 1200\n",
      "Saving to large_800-1200.fasta\n",
      "Filtering to 45 / 1058 sequences >= 1200 and < 100000.0\n",
      "Saving to excessive_1200-plus.fasta\n"
     ]
    }
   ],
   "source": [
    "fasta_path = \"data/sequences.fasta\"\n",
    "\n",
    "# Read in FASTA to dict\n",
    "fasta_dict = parse_fasta_file(fasta_path)\n",
    "\n",
    "# Check for overlap\n",
    "overlap_dict = check_overlapping_sequences(fasta_dict)\n",
    "\n",
    "# Save filtered FASTA files\n",
    "small_dict = filter_fasta_dict_on_seqlen(fasta_dict, min_len=0, max_len=800)\n",
    "save_fasta_dict(\"small_0-800.fasta\", small_dict)\n",
    "\n",
    "small_dict = filter_fasta_dict_on_seqlen(fasta_dict, min_len=800, max_len=1200)\n",
    "save_fasta_dict(\"large_800-1200.fasta\", small_dict)\n",
    "\n",
    "small_dict = filter_fasta_dict_on_seqlen(fasta_dict, min_len=1200, max_len=10e4)\n",
    "save_fasta_dict(\"excessive_1200-plus.fasta\", small_dict)"
   ]
  },
  {
   "cell_type": "code",
   "execution_count": 93,
   "metadata": {},
   "outputs": [
    {
     "name": "stdout",
     "output_type": "stream",
     "text": [
      "0 3\n",
      "inside 1\n",
      "1 3\n",
      "inside 2\n",
      "2 3\n",
      "inside 3\n"
     ]
    },
    {
     "ename": "IndexError",
     "evalue": "list index out of range",
     "output_type": "error",
     "traceback": [
      "\u001b[0;31m---------------------------------------------------------------------------\u001b[0m",
      "\u001b[0;31mIndexError\u001b[0m                                Traceback (most recent call last)",
      "\u001b[0;32m/var/folders/cp/3z67243566q0r3wq706xp04w0000gp/T/ipykernel_96655/3978804375.py\u001b[0m in \u001b[0;36m<module>\u001b[0;34m\u001b[0m\n\u001b[1;32m      5\u001b[0m     \u001b[0;32mif\u001b[0m \u001b[0mi\u001b[0m\u001b[0;34m+\u001b[0m\u001b[0;36m1\u001b[0m \u001b[0;34m<=\u001b[0m \u001b[0mlen\u001b[0m\u001b[0;34m(\u001b[0m\u001b[0mlimits\u001b[0m\u001b[0;34m)\u001b[0m\u001b[0;34m:\u001b[0m\u001b[0;34m\u001b[0m\u001b[0;34m\u001b[0m\u001b[0m\n\u001b[1;32m      6\u001b[0m         \u001b[0mprint\u001b[0m\u001b[0;34m(\u001b[0m\u001b[0;34mf\"inside {i+1}\"\u001b[0m\u001b[0;34m)\u001b[0m\u001b[0;34m\u001b[0m\u001b[0;34m\u001b[0m\u001b[0m\n\u001b[0;32m----> 7\u001b[0;31m         \u001b[0mmax_len\u001b[0m \u001b[0;34m=\u001b[0m \u001b[0mlimits\u001b[0m\u001b[0;34m[\u001b[0m\u001b[0mi\u001b[0m\u001b[0;34m+\u001b[0m\u001b[0;36m1\u001b[0m\u001b[0;34m]\u001b[0m\u001b[0;34m\u001b[0m\u001b[0;34m\u001b[0m\u001b[0m\n\u001b[0m\u001b[1;32m      8\u001b[0m     \u001b[0;32melse\u001b[0m\u001b[0;34m:\u001b[0m\u001b[0;34m\u001b[0m\u001b[0;34m\u001b[0m\u001b[0m\n\u001b[1;32m      9\u001b[0m         \u001b[0mmax_len\u001b[0m \u001b[0;34m=\u001b[0m \u001b[0;36m10e4\u001b[0m\u001b[0;34m\u001b[0m\u001b[0;34m\u001b[0m\u001b[0m\n",
      "\u001b[0;31mIndexError\u001b[0m: list index out of range"
     ]
    }
   ],
   "source": [
    "limits = [0, 800, 1200]\n",
    "for i, min_len in enumerate(limits):\n",
    "    print(i, len(limits))\n",
    "\n",
    "    if i+1 <= len(limits):\n",
    "        print(f\"inside {i+1}\")\n",
    "        max_len = limits[i+1]\n",
    "    else:\n",
    "        max_len = 10e4"
   ]
  },
  {
   "cell_type": "code",
   "execution_count": 98,
   "metadata": {},
   "outputs": [
    {
     "ename": "IndexError",
     "evalue": "list index out of range",
     "output_type": "error",
     "traceback": [
      "\u001b[0;31m---------------------------------------------------------------------------\u001b[0m",
      "\u001b[0;31mIndexError\u001b[0m                                Traceback (most recent call last)",
      "\u001b[0;32m/var/folders/cp/3z67243566q0r3wq706xp04w0000gp/T/ipykernel_96655/379923514.py\u001b[0m in \u001b[0;36m<module>\u001b[0;34m\u001b[0m\n\u001b[0;32m----> 1\u001b[0;31m \u001b[0mlimits\u001b[0m\u001b[0;34m[\u001b[0m\u001b[0;36m3\u001b[0m\u001b[0;34m]\u001b[0m\u001b[0;34m\u001b[0m\u001b[0;34m\u001b[0m\u001b[0m\n\u001b[0m",
      "\u001b[0;31mIndexError\u001b[0m: list index out of range"
     ]
    }
   ],
   "source": [
    "limits[3]"
   ]
  }
 ],
 "metadata": {
  "kernelspec": {
   "display_name": "Python 3.7.9 ('py39')",
   "language": "python",
   "name": "python3"
  },
  "language_info": {
   "codemirror_mode": {
    "name": "ipython",
    "version": 3
   },
   "file_extension": ".py",
   "mimetype": "text/x-python",
   "name": "python",
   "nbconvert_exporter": "python",
   "pygments_lexer": "ipython3",
   "version": "3.7.9"
  },
  "orig_nbformat": 4,
  "vscode": {
   "interpreter": {
    "hash": "43a569c2b82d50a5da9f4769fea21662813cde38f1d5020fe9e9afd932d6ba90"
   }
  }
 },
 "nbformat": 4,
 "nbformat_minor": 2
}
